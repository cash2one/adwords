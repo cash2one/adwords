{
 "cells": [
  {
   "cell_type": "code",
   "execution_count": 196,
   "metadata": {
    "collapsed": true
   },
   "outputs": [],
   "source": [
    "done_urls = [\n",
    "\"www.bookyogaretreats.com/all/c/short/d/europe\",\n",
    "\"www.bookyogaretreats.com/all/d/asia-and-oceania/philippines\",\n",
    "\"www.bookyogaretreats.com/all/c/holidays/d/asia-and-oceania/india/goa\",\n",
    "\"www.bookyogaretreats.com/all/c|/budget-retreats/d/asia-and-oceania\",\n",
    "\"www.bookyogaretreats.com/all/d/europe/croatia\",\n",
    "\"www.bookyogaretreats.com/all/c/budget-retreats/d/the-americas-and-caribbean/usa\",\n",
    "\"www.bookyogaretreats.com/all/c/budget-retreats/d/europe/united-kingdom\",\n",
    "\"www.bookyogateachertraining.com/all/s/yoga-vinyasa\",\n",
    "\"www.bookyogaretreats.com/all/c/holidays/d/europe\",\n",
    "\"www.bookyogaretreats.com/all/c/holidays/d/the-americas-and-caribbean/usa/hawaii\",\n",
    "\"www.bookyogaretreats.com/all/c/holidays/d/the-americas-and-caribbean/usa/florida\",\n",
    "\"www.bookyogaretreats.com/all/s/vinyasa-yoga\",\n",
    "\"www.bookyogaretreats.com/all/c/yoga-detox-retreats\",\n",
    "\"www.bookyogaretreats.com/all/d/the-americas-and-caribbean/mexico\",\n",
    "\"www.bookyogaretreats.com/all/c/short/d/the-americas-and-caribbean/usa/california\",\n",
    "\"www.bookyogateachertraining.com/all/d/europe\",\n",
    "\"www.bookyogaretreats.com/all/c/budget-retreats/d/asia-and-oceania/indonesia/bali\",\n",
    "\"www.bookyogaretreats.com/?arrival_date=2017-02-15&flexible=15\",\n",
    "\"www.bookyogaretreats.com/all/c/holidays/d/asia-and-oceania/indonesia\",\n",
    "\"www.bookyogaretreats.com/all/c/yoga-meditation-retreats\",\n",
    "\"www.bookyogaretreats.com/all/c/holidays/d/asia-and-oceania/india\",\n",
    "\"www.bookyogaretreats.com/?arrival_date=2017-03-15&flexible=15\",\n",
    "\"www.bookyogaretreats.com/all/c/yoga-meditation-retreats/d/the-americas-and-caribbean/usa/florida\",\n",
    "\"www.bookyogaretreats.com/all/c/budget-retreats/d/the-americas-and-caribbean\",\n",
    "\"www.bookyogaretreats.com/all/c/yoga-surf/d/the-americas-and-caribbean/costa-rica\",\n",
    "\"www.bookyogaretreats.com/?arrival_date=2016-05-15&flexible=15\",\n",
    "\"www.bookyogateachertraining.com/all/d/asia-and-oceania/thailand\",\n",
    "\"www.bookyogaretreats.com/all/c/short\",\n",
    "\"www.bookyogaretreats.com/all/c/short/d/the-americas-and-caribbean/usa\",\n",
    "\"www.bookyogaretreats.com/all/s/bikram-hot-yoga\",\n",
    "\"www.bookyogaretreats.com/all/d/asia-and-oceania/india\",\n",
    "\"www.bookyogaretreats.com/?arrival_date=2016-12-15&flexible=15\",\n",
    "\"www.bookyogaretreats.com/all/d/asia-and-oceania/india/goa\",\n",
    "\"www.bookyogaretreats.com/all/c/budget-retreats/d/asia-and-oceania/thailand\",\n",
    "\"www.bookyogaretreats.com/all/c/beach-retreats/d/the-americas-and-caribbean\",\n",
    "\"www.bookyogaretreats.com/all/c/yoga-surf\",\n",
    "\"www.bookyogaretreats.com/all/c/budget-retreats\",\n",
    "\"www.bookyogaretreats.com/all/d/asia-and-oceania/vietnam\",\n",
    "\"www.bookyogaretreats.com/all/c/holidays/d/the-americas-and-caribbean\",\n",
    "\"www.bookyogaretreats.com/all/c/holidays/d/europe/united-kingdom\",\n",
    "\"www.bookyogaretreats.com/all/d/the-americas-and-caribbean/usa/hawaii\",\n",
    "\"www.bookyogaretreats.com/?arrival_date=2016-06-15&flexible=15\",\n",
    "\"www.bookyogaretreats.com/all/d/europe/united-kingdom/england\",\n",
    "\"www.bookyogaretreats.com/all/c/holidays/d/asia-and-oceania/indonesia/bali\",\n",
    "\"www.bookyogaretreats.com/all/d/europe/france\",\n",
    "\"www.bookyogaretreats.com/all/c/holidays/d/europe/greece\",\n",
    "\"www.bookyogaretreats.com/all/d/europe/greece\",\n",
    "\"www.bookyogaretreats.com/?arrival_date=2016-07-15&flexible=15\",\n",
    "\"www.bookyogaretreats.com/?arrival_date=2016-10-15&flexible=15\",\n",
    "\"www.bookyogaretreats.com/?arrival_date=2016-09-15&flexible=15\",\n",
    "\"www.bookyogaretreats.com/all/c/holidays/d/africa-and-the-middle-east/morocco\",\n",
    "\"www.bookyogaretreats.com/?arrival_date=2016-11-15&flexible=15\",\n",
    "\"www.bookyogaretreats.com/?arrival_date=2017-01-15&flexible=15\",\n",
    "\"www.bookyogaretreats.com/all/d/the-americas-and-caribbean\",\n",
    "\"www.bookyogaretreats.com/all/d/asia-and-oceania/nepal\",\n",
    "\"www.bookyogaretreats.com/all/c/holidays/d/the-americas-and-caribbean/usa/california\",\n",
    "\"www.bookyogaretreats.com/all/c/holidays/d/asia-and-oceania/india/kerala\",\n",
    "\"www.bookyogaretreats.com/?arrival_date=2016-08-15&flexible=15\",\n",
    "\"www.bookyogaretreats.com/all/c/holidays/d/asia-and-oceania/thailand\",\n",
    "\"www.bookyogaretreats.com/all/d/asia-and-oceania/cambodia\",\n",
    "\"www.bookyogaretreats.com/all/d/europe/spain/ibiza\",\n",
    "\"www.bookyogaretreats.com/all/c/short/d/the-americas-and-caribbean\",\n",
    "\"www.bookyogaretreats.com/all/d/europe/spain/mallorca\",\n",
    "\"www.bookyogaretreats.com/all/d/asia-and-oceania/indonesia/bali\",\n",
    "\"www.bookyogaretreats.com/all/c/holidays/d/europe/spain/canary-islands\",\n",
    "\"www.bookyogaretreats.com/all/c/yoga-surf/d/asia-and-oceania/indonesia/bali\",\n",
    "\"www.bookyogaretreats.com/all/d/europe/spain\",\n",
    "\"www.bookyogaretreats.com/all/c/holidays/d/europe/spain\",\n",
    "\"www.bookyogaretreats.com/all/c/holidays/d/europe/portugal\",\n",
    "\"www.bookyogaretreats.com/all/s/ashtanga-yoga\",\n",
    "\"www.bookyogaretreats.com/all/d/asia-and-oceania/india/kerala\",\n",
    "\"www.bookyogaretreats.com/all/d/europe/italy\",\n",
    "\"www.bookyogaretreats.com/all/c/holidays/d/asia-and-oceania/vietnam\",\n",
    "\"www.bookyogaretreats.com/all/d/asia-and-oceania/new-zealand\",\n",
    "\"www.bookyogaretreats.com/all/c/holidays/d/the-americas-and-caribbean/usa\",\n",
    "\"www.bookyogaretreats.com/all/d/europe\",\n",
    "\"www.bookyogaretreats.com/all/d/europe/spain/canary-islands\",\n",
    "\"www.bookyogaretreats.com/all/c/holidays/d/europe/spain/ibiza\",\n",
    "\"www.bookyogaretreats.com/all/c/holidays/d/asia-and-oceania/sri-lanka\",\n",
    "\"www.bookyogaretreats.com/all/c/holidays/d/the-americas-and-caribbean/costa-rica\",\n",
    "\"www.bookyogateachertraining.com/\",\n",
    "\"www.bookyogaretreats.com/all/d/asia-and-oceania/australia\",\n",
    "\"www.bookyogaretreats.com/?arrival_date=2016-04-15&flexible=15\",\n",
    "\"www.bookyogaretreats.com/all/d/the-americas-and-caribbean/USA\",\n",
    "\"www.bookyogaretreats.com/all/d/europe/portugal\",\n",
    "\"www.bookyogaretreats.com/all/d/asia-and-oceania/sri-lanka\",\n",
    "\"www.bookyogaretreats.com\",\n",
    "\"www.bookyogaretreats.com/all/c/holidays/d/asia-and-oceania/cambodia\",\n",
    "\"www.bookyogateachertraining.com/all/d/the-americas-and-caribbean\",\n",
    "\"www.bookyogaretreats.com/all/d/africa-and-the-middle-east/morocco\",\n",
    "\"www.bookyogaretreats.com/all/d/africa-and-the-middle-east\",\n",
    "\"www.bookyogaretreats.com/all/d/the-americas-and-caribbean/costa-rica\",\n",
    "\"www.bookyogaretreats.com/all/c/holidays/d/asia-and-oceania/australia\",\n",
    "\"www.bookyogaretreats.com/all/d/asia-and-oceania/indonesia\",\n",
    "\"www.bookyogateachertraining.com/all/d/the-americas-and-caribbean/costa-rica\",\n",
    "\"www.bookyogaretreats.com/all/d/europe/united-kingdom\",\n",
    "\"www.bookyogaretreats.com/all/d/asia-and-oceania/thailand\",\n",
    "\"www.bookyogaretreats.com/all/d/asia-and-oceania\"\n",
    "]"
   ]
  },
  {
   "cell_type": "code",
   "execution_count": 197,
   "metadata": {
    "collapsed": true
   },
   "outputs": [],
   "source": [
    "import csv\n",
    "import codecs\n",
    "\n",
    "file_name = 'steph.csv'\n",
    "\n",
    "basic_dict = {} #{destination id : destination name}\n",
    "ready_dict = {} #{destinaiton name: [destination id, destination type, number of listings, url, country name]}\n",
    "\n",
    "names = []\n",
    "ready_names = []\n",
    "ready_urls = []\n",
    "\n",
    "\n",
    "#setup basic_dict (everything), names (everything), ready_urls (only ones without adgroups), ready_names (only ones without adgroups)\n",
    "\n",
    "with codecs.open(file_name, 'r', encoding = 'utf-8', errors = 'ignore') as csvfile:\n",
    "    reader=csv.DictReader(csvfile)\n",
    "    for row in reader:\n",
    "        names.append(row['name'])\n",
    "        basic_dict[int(row['destination_id'])] = row['name']\n",
    "        if row['concat'] not in done_urls: #only for urls that do not have adgroups yet\n",
    "            ready_urls.append(row['concat']) #add all urls"
   ]
  },
  {
   "cell_type": "code",
   "execution_count": 198,
   "metadata": {
    "collapsed": false
   },
   "outputs": [],
   "source": [
    "#setup ready_dict \n",
    "\n",
    "#ready_dict['key'][0] = destination id\n",
    "#ready_dict['key'][1] = destination type\n",
    "#ready_dict['key'][2] = number of listings\n",
    "#ready_dict['key'][3] = URL (landing page)\n",
    "#ready_dict['key'][4] = country name\n",
    "\n",
    "with codecs.open(file_name, 'r', encoding = 'utf-8', errors = 'ignore') as csvfile:\n",
    "    reader=csv.DictReader(csvfile)\n",
    "    for row in reader:\n",
    "        if row['concat'] not in done_urls:\n",
    "            ready_dict[row['name']] = [row['destination_id'], row['type1'], row['nr_listings'], row['concat'], basic_dict[int(row['parent_id1'])]]"
   ]
  },
  {
   "cell_type": "code",
   "execution_count": 199,
   "metadata": {
    "collapsed": false
   },
   "outputs": [],
   "source": [
    "for item in names: #destinations without adgroups\n",
    "    if item in ready_dict:\n",
    "        ready_names.append(item)"
   ]
  },
  {
   "cell_type": "code",
   "execution_count": 191,
   "metadata": {
    "collapsed": false
   },
   "outputs": [
    {
     "name": "stdout",
     "output_type": "stream",
     "text": [
      "all lists have the same length (thats a good thing)\n"
     ]
    }
   ],
   "source": [
    "#prepare text ads\n",
    "\n",
    "headline1 = []\n",
    "headline2 = []\n",
    "\n",
    "desc11 = []\n",
    "desc12 = []\n",
    "\n",
    "desc21 = []\n",
    "desc22 = []\n",
    "\n",
    "display_url = []\n",
    "final_url = []\n",
    "\n",
    "campaign = []\n",
    "ad_group = []\n",
    "\n",
    "#ad_state\n",
    "#device_preference\n",
    "#ad_type\n",
    "\n",
    "\n",
    "for i in range(len(ready_names)):\n",
    "    headline1.append('Book Yoga Retreats Online')\n",
    "    headline2.append('Best Yoga Retreats 2016')\n",
    "    \n",
    "    desc11.append('%s Deals in %s!' %(ready_dict[ready_names[i]][2], ready_names[i]))\n",
    "    desc12.append('Top Rated & Best Price Guarantee')\n",
    "    \n",
    "    desc21.append('%s Deals in %s!' %(ready_dict[ready_names[i]][2], ready_names[i]))\n",
    "    desc22.append('Compare and Book from Top Packages')\n",
    "    \n",
    "for item in headline1:\n",
    "    if len(item) > 25:\n",
    "        print(item)\n",
    "        \n",
    "for item in headline2:\n",
    "    if len(item) > 25:\n",
    "        print(item)\n",
    "\n",
    "for i in range(len(desc11)):\n",
    "    if len(desc11[i]) > 38:\n",
    "        desc11[i] = ''.join([i for i in desc11[i] if not i.isdigit()])\n",
    "        desc11[i] = desc11[i].replace(' Deals', 'Deals')\n",
    "        if len(desc11[i]) > 38:\n",
    "            desc11[i] = desc11[i].replace(\"Deals in \", '')\n",
    "\n",
    "if len(desc11[i]) > 38:\n",
    "    print(desc11[i], len(desc11[i]))\n",
    "    \n",
    "for i in range(len(desc21)):\n",
    "    if len(desc21[i]) > 38:\n",
    "        desc21[i] = ''.join(i for i in desc21[i] if not i.isdigit())\n",
    "        desc21[i] = desc21[i].replace(' Deals', 'Deals')\n",
    "        if len(desc21[i]) > 38:\n",
    "            desc21[i] = desc21[i].replace('Deals in ', '')\n",
    "            \n",
    "for i in range(len(desc21)):\n",
    "    if len(desc21[i]) > 38:\n",
    "        print(desc21[i], len(desc21[i]))\n",
    "        \n",
    "if (len(headline1) == len(headline2) == len(desc11) == len(desc12) == len(desc21) == len(desc22)) == True:\n",
    "    print('all lists have the same length (thats a good thing)')\n",
    "    \n"
   ]
  },
  {
   "cell_type": "code",
   "execution_count": 190,
   "metadata": {
    "collapsed": false,
    "scrolled": false
   },
   "outputs": [
    {
     "name": "stdout",
     "output_type": "stream",
     "text": [
      "True\n"
     ]
    }
   ],
   "source": [
    "for i in range(len(ready_names):\n",
    "    "
   ]
  },
  {
   "cell_type": "code",
   "execution_count": 192,
   "metadata": {
    "collapsed": false
   },
   "outputs": [
    {
     "data": {
      "text/plain": [
       "929"
      ]
     },
     "execution_count": 192,
     "metadata": {},
     "output_type": "execute_result"
    }
   ],
   "source": [
    "len(ready_names)"
   ]
  },
  {
   "cell_type": "code",
   "execution_count": 193,
   "metadata": {
    "collapsed": false
   },
   "outputs": [
    {
     "data": {
      "text/plain": [
       "924"
      ]
     },
     "execution_count": 193,
     "metadata": {},
     "output_type": "execute_result"
    }
   ],
   "source": [
    "len(ready_dict)"
   ]
  },
  {
   "cell_type": "code",
   "execution_count": 194,
   "metadata": {
    "collapsed": false
   },
   "outputs": [
    {
     "data": {
      "text/plain": [
       "929"
      ]
     },
     "execution_count": 194,
     "metadata": {},
     "output_type": "execute_result"
    }
   ],
   "source": [
    "len(headlines1)"
   ]
  },
  {
   "cell_type": "code",
   "execution_count": 195,
   "metadata": {
    "collapsed": false
   },
   "outputs": [
    {
     "data": {
      "text/plain": [
       "924"
      ]
     },
     "execution_count": 195,
     "metadata": {},
     "output_type": "execute_result"
    }
   ],
   "source": [
    "len(set(headlines1))"
   ]
  },
  {
   "cell_type": "markdown",
   "metadata": {},
   "source": [
    "\n",
    "    \n",
    "    \n",
    "    \n",
    "change_idx = []\n",
    "move_headline = []\n",
    "\n",
    "for i in range(len(headlines1)):\n",
    "    if len(headlines1[i]) > 25: #if the headline is too long\n",
    "        headlines1[i] = headlines1[i].replace(' in ', ' ') #get rid of the 'in'\n",
    "        if len(headlines1[i]) > 25: #if the headline is still too long, \n",
    "            headlines1[i] = ''.join([i for i in headlines1[i] if not i.isdigit()]) #get rid of number of listings\n",
    "            headlines1[i] = headlines1[i].replace(' Yoga', 'Yoga') #fix ' Yoga Retreats in England' -> 'Yoga Retreats in England'\n",
    "            if len(headlines1[i]) > 25: #if the headline is still too long, \n",
    "                if 'area' in headlines1[i]: \n",
    "                    headlines1[i] = headlines1[i] = headlines1[i].replace(' area', '') #take out the 'area' e.g. 'Yoga Retreats Southern Mountain Area' -> 'Yoga Retreats Southern Mountain'\n",
    "\n",
    "                    \n",
    "for i in range(len(headlines1)):\n",
    "    if len(headlines1[i]) > 25: #if the headline is still too long, \n",
    "        print(headlines1[i], len(headlines1[i]))\n",
    "        print(headlines1.index(headlines1[i]))\n",
    "        move_headline.append(headlines1[i])\n",
    "        change_idx.append(headlines1.index(headlines1[i]))\n",
    "        headlines1[i] = 'Book Yoga Retreats Online'\n",
    "                        \n",
    "                        \n",
    "for i in range(len(change_idx)):\n",
    "    descs11[change_idx[i]] = move_headline[i].replace('Yoga Retreats ', '') + 'Area'"
   ]
  }
 ],
 "metadata": {
  "kernelspec": {
   "display_name": "Python 3",
   "language": "python",
   "name": "python3"
  },
  "language_info": {
   "codemirror_mode": {
    "name": "ipython",
    "version": 3
   },
   "file_extension": ".py",
   "mimetype": "text/x-python",
   "name": "python",
   "nbconvert_exporter": "python",
   "pygments_lexer": "ipython3",
   "version": "3.5.1"
  }
 },
 "nbformat": 4,
 "nbformat_minor": 0
}
