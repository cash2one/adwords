{
 "cells": [
  {
   "cell_type": "code",
   "execution_count": 57,
   "metadata": {
    "collapsed": false
   },
   "outputs": [],
   "source": [
    "done_urls = [\n",
    "\"www.bookyogaretreats.com/all/c/short/d/europe\",\n",
    "\"www.bookyogaretreats.com/all/d/asia-and-oceania/philippines\",\n",
    "\"www.bookyogaretreats.com/all/c/holidays/d/asia-and-oceania/india/goa\",\n",
    "\"www.bookyogaretreats.com/all/c|/budget-retreats/d/asia-and-oceania\",\n",
    "\"www.bookyogaretreats.com/all/d/europe/croatia\",\n",
    "\"www.bookyogaretreats.com/all/c/budget-retreats/d/the-americas-and-caribbean/usa\",\n",
    "\"www.bookyogaretreats.com/all/c/budget-retreats/d/europe/united-kingdom\",\n",
    "\"www.bookyogateachertraining.com/all/s/yoga-vinyasa\",\n",
    "\"www.bookyogaretreats.com/all/c/holidays/d/europe\",\n",
    "\"www.bookyogaretreats.com/all/c/holidays/d/the-americas-and-caribbean/usa/hawaii\",\n",
    "\"www.bookyogaretreats.com/all/c/holidays/d/the-americas-and-caribbean/usa/florida\",\n",
    "\"www.bookyogaretreats.com/all/s/vinyasa-yoga\",\n",
    "\"www.bookyogaretreats.com/all/c/yoga-detox-retreats\",\n",
    "\"www.bookyogaretreats.com/all/d/the-americas-and-caribbean/mexico\",\n",
    "\"www.bookyogaretreats.com/all/c/short/d/the-americas-and-caribbean/usa/california\",\n",
    "\"www.bookyogateachertraining.com/all/d/europe\",\n",
    "\"www.bookyogaretreats.com/all/c/budget-retreats/d/asia-and-oceania/indonesia/bali\",\n",
    "\"www.bookyogaretreats.com/?arrival_date=2017-02-15&flexible=15\",\n",
    "\"www.bookyogaretreats.com/all/c/holidays/d/asia-and-oceania/indonesia\",\n",
    "\"www.bookyogaretreats.com/all/c/yoga-meditation-retreats\",\n",
    "\"www.bookyogaretreats.com/all/c/holidays/d/asia-and-oceania/india\",\n",
    "\"www.bookyogaretreats.com/?arrival_date=2017-03-15&flexible=15\",\n",
    "\"www.bookyogaretreats.com/all/c/yoga-meditation-retreats/d/the-americas-and-caribbean/usa/florida\",\n",
    "\"www.bookyogaretreats.com/all/c/budget-retreats/d/the-americas-and-caribbean\",\n",
    "\"www.bookyogaretreats.com/all/c/yoga-surf/d/the-americas-and-caribbean/costa-rica\",\n",
    "\"www.bookyogaretreats.com/?arrival_date=2016-05-15&flexible=15\",\n",
    "\"www.bookyogateachertraining.com/all/d/asia-and-oceania/thailand\",\n",
    "\"www.bookyogaretreats.com/all/c/short\",\n",
    "\"www.bookyogaretreats.com/all/c/short/d/the-americas-and-caribbean/usa\",\n",
    "\"www.bookyogaretreats.com/all/s/bikram-hot-yoga\",\n",
    "\"www.bookyogaretreats.com/all/d/asia-and-oceania/india\",\n",
    "\"www.bookyogaretreats.com/?arrival_date=2016-12-15&flexible=15\",\n",
    "\"www.bookyogaretreats.com/all/d/asia-and-oceania/india/goa\",\n",
    "\"www.bookyogaretreats.com/all/c/budget-retreats/d/asia-and-oceania/thailand\",\n",
    "\"www.bookyogaretreats.com/all/c/beach-retreats/d/the-americas-and-caribbean\",\n",
    "\"www.bookyogaretreats.com/all/c/yoga-surf\",\n",
    "\"www.bookyogaretreats.com/all/c/budget-retreats\",\n",
    "\"www.bookyogaretreats.com/all/d/asia-and-oceania/vietnam\",\n",
    "\"www.bookyogaretreats.com/all/c/holidays/d/the-americas-and-caribbean\",\n",
    "\"www.bookyogaretreats.com/all/c/holidays/d/europe/united-kingdom\",\n",
    "\"www.bookyogaretreats.com/all/d/the-americas-and-caribbean/usa/hawaii\",\n",
    "\"www.bookyogaretreats.com/?arrival_date=2016-06-15&flexible=15\",\n",
    "\"www.bookyogaretreats.com/all/d/europe/united-kingdom/england\",\n",
    "\"www.bookyogaretreats.com/all/c/holidays/d/asia-and-oceania/indonesia/bali\",\n",
    "\"www.bookyogaretreats.com/all/d/europe/france\",\n",
    "\"www.bookyogaretreats.com/all/c/holidays/d/europe/greece\",\n",
    "\"www.bookyogaretreats.com/all/d/europe/greece\",\n",
    "\"www.bookyogaretreats.com/?arrival_date=2016-07-15&flexible=15\",\n",
    "\"www.bookyogaretreats.com/?arrival_date=2016-10-15&flexible=15\",\n",
    "\"www.bookyogaretreats.com/?arrival_date=2016-09-15&flexible=15\",\n",
    "\"www.bookyogaretreats.com/all/c/holidays/d/africa-and-the-middle-east/morocco\",\n",
    "\"www.bookyogaretreats.com/?arrival_date=2016-11-15&flexible=15\",\n",
    "\"www.bookyogaretreats.com/?arrival_date=2017-01-15&flexible=15\",\n",
    "\"www.bookyogaretreats.com/all/d/the-americas-and-caribbean\",\n",
    "\"www.bookyogaretreats.com/all/d/asia-and-oceania/nepal\",\n",
    "\"www.bookyogaretreats.com/all/c/holidays/d/the-americas-and-caribbean/usa/california\",\n",
    "\"www.bookyogaretreats.com/all/c/holidays/d/asia-and-oceania/india/kerala\",\n",
    "\"www.bookyogaretreats.com/?arrival_date=2016-08-15&flexible=15\",\n",
    "\"www.bookyogaretreats.com/all/c/holidays/d/asia-and-oceania/thailand\",\n",
    "\"www.bookyogaretreats.com/all/d/asia-and-oceania/cambodia\",\n",
    "\"www.bookyogaretreats.com/all/d/europe/spain/ibiza\",\n",
    "\"www.bookyogaretreats.com/all/c/short/d/the-americas-and-caribbean\",\n",
    "\"www.bookyogaretreats.com/all/d/europe/spain/mallorca\",\n",
    "\"www.bookyogaretreats.com/all/d/asia-and-oceania/indonesia/bali\",\n",
    "\"www.bookyogaretreats.com/all/c/holidays/d/europe/spain/canary-islands\",\n",
    "\"www.bookyogaretreats.com/all/c/yoga-surf/d/asia-and-oceania/indonesia/bali\",\n",
    "\"www.bookyogaretreats.com/all/d/europe/spain\",\n",
    "\"www.bookyogaretreats.com/all/c/holidays/d/europe/spain\",\n",
    "\"www.bookyogaretreats.com/all/c/holidays/d/europe/portugal\",\n",
    "\"www.bookyogaretreats.com/all/s/ashtanga-yoga\",\n",
    "\"www.bookyogaretreats.com/all/d/asia-and-oceania/india/kerala\",\n",
    "\"www.bookyogaretreats.com/all/d/europe/italy\",\n",
    "\"www.bookyogaretreats.com/all/c/holidays/d/asia-and-oceania/vietnam\",\n",
    "\"www.bookyogaretreats.com/all/d/asia-and-oceania/new-zealand\",\n",
    "\"www.bookyogaretreats.com/all/c/holidays/d/the-americas-and-caribbean/usa\",\n",
    "\"www.bookyogaretreats.com/all/d/europe\",\n",
    "\"www.bookyogaretreats.com/all/d/europe/spain/canary-islands\",\n",
    "\"www.bookyogaretreats.com/all/c/holidays/d/europe/spain/ibiza\",\n",
    "\"www.bookyogaretreats.com/all/c/holidays/d/asia-and-oceania/sri-lanka\",\n",
    "\"www.bookyogaretreats.com/all/c/holidays/d/the-americas-and-caribbean/costa-rica\",\n",
    "\"www.bookyogateachertraining.com/\",\n",
    "\"www.bookyogaretreats.com/all/d/asia-and-oceania/australia\",\n",
    "\"www.bookyogaretreats.com/?arrival_date=2016-04-15&flexible=15\",\n",
    "\"www.bookyogaretreats.com/all/d/the-americas-and-caribbean/USA\",\n",
    "\"www.bookyogaretreats.com/all/d/europe/portugal\",\n",
    "\"www.bookyogaretreats.com/all/d/asia-and-oceania/sri-lanka\",\n",
    "\"www.bookyogaretreats.com\",\n",
    "\"www.bookyogaretreats.com/all/c/holidays/d/asia-and-oceania/cambodia\",\n",
    "\"www.bookyogateachertraining.com/all/d/the-americas-and-caribbean\",\n",
    "\"www.bookyogaretreats.com/all/d/africa-and-the-middle-east/morocco\",\n",
    "\"www.bookyogaretreats.com/all/d/africa-and-the-middle-east\",\n",
    "\"www.bookyogaretreats.com/all/d/the-americas-and-caribbean/costa-rica\",\n",
    "\"www.bookyogaretreats.com/all/c/holidays/d/asia-and-oceania/australia\",\n",
    "\"www.bookyogaretreats.com/all/d/asia-and-oceania/indonesia\",\n",
    "\"www.bookyogateachertraining.com/all/d/the-americas-and-caribbean/costa-rica\",\n",
    "\"www.bookyogaretreats.com/all/d/europe/united-kingdom\",\n",
    "\"www.bookyogaretreats.com/all/d/asia-and-oceania/thailand\",\n",
    "\"www.bookyogaretreats.com/all/d/asia-and-oceania\"\n",
    "]\n",
    "\n",
    "import csv\n",
    "import codecs\n",
    "\n",
    "file_name = '20160712.csv'\n",
    "\n",
    "basic_dict = {} \n",
    "ready_dict = {}\n",
    "ready_dict_names = {}\n",
    "state_country = {}\n",
    "\n",
    "names = []\n",
    "ready_names = []\n",
    "ready_urls = []\n",
    "ready_ids = []\n",
    "\n",
    "#setup basic_dict (everything)\n",
    "#ready_urls (only ones without adgroups)\n",
    "#ready_ids (only ones without adgroups)\n",
    "\n",
    "with codecs.open(file_name, 'r', encoding = 'utf-8', errors = 'ignore') as csvfile:\n",
    "    reader=csv.DictReader(csvfile)\n",
    "    for row in reader:\n",
    "        names.append(row['name'])\n",
    "        basic_dict[int(row['destination_id'])] = row['name']\n",
    "        if row['concat'] not in done_urls: #only for urls that do not have adgroups yet\n",
    "            ready_urls.append(row['concat']) #add all urls\n",
    "            ready_ids.append(int(row['destination_id']))\n",
    "            ready_names.append(row['name'])\n",
    "\n",
    "#setup ready_dict \n",
    "#['key'] = destination_id\n",
    "#ready_dict['key'][0] = destination name\n",
    "#ready_dict['key'][1] = destination type\n",
    "#ready_dict['key'][2] = number of listings\n",
    "#ready_dict['key'][3] = URL (landing page)\n",
    "#ready_dict['key'][4] = country name\n",
    "#ready_dict['key'][5] = destination slug\n",
    "#ready_dict['key'][6] = parent slug\n",
    "\n",
    "with codecs.open(file_name, 'r', encoding = 'utf-8', errors = 'ignore') as csvfile:\n",
    "    reader=csv.DictReader(csvfile)\n",
    "    for row in reader:\n",
    "        if row['concat'] not in done_urls:\n",
    "            ready_dict[int(row['destination_id'])] = [row['name'], row['type1'], row['nr_listings'], row['concat'], basic_dict[int(row['parent_id1'])], row['slug1'], row['slug2'], row['name2'], 'in '+ row['name']]\n",
    "            ready_dict_names[row['slug1']] = [row['name'], row['type1']]\n",
    "            #state_country[row['']]"
   ]
  },
  {
   "cell_type": "code",
   "execution_count": 58,
   "metadata": {
    "collapsed": false
   },
   "outputs": [],
   "source": [
    "#prepare text ads\n",
    "\n",
    "headline1 = []\n",
    "headline2 = []\n",
    "\n",
    "desc11 = []\n",
    "desc12 = []\n",
    "\n",
    "desc21 = []\n",
    "desc22 = []\n",
    "\n",
    "display_url = []\n",
    "final_url = []\n",
    "\n",
    "campaign = []\n",
    "ad_group = []\n",
    "\n",
    "#ad_state\n",
    "#device_preference\n",
    "#ad_type\n",
    "\n",
    "for i in range(len(ready_ids)):\n",
    "    headline1.append('Book Yoga Retreats Online')\n",
    "    headline2.append('Best Yoga Retreats 2016')\n",
    "    \n",
    "    desc11.append('%s Deals in %s!' %(ready_dict[ready_ids[i]][2], ready_dict[ready_ids[i]][0]))\n",
    "    desc12.append('Top Rated & Best Price Guarantee')\n",
    "    \n",
    "    desc21.append('%s Deals in %s!' %(ready_dict[ready_ids[i]][2], ready_dict[ready_ids[i]][0]))\n",
    "    desc22.append('Compare and Book from Top Packages')\n",
    "    \n",
    "    display_url.append('www.BookYogaRetreats.com/%s' %ready_dict[ready_ids[i]][5].title())\n",
    "    final_url.append(ready_dict[ready_ids[i]][3])\n",
    "\n",
    "    ad_group.append('Longtail Retreats %s' %ready_dict[ready_ids[i]][0])\n",
    "\n",
    "for i in range(len(ready_ids)):\n",
    "    if ready_dict[ready_ids[i]][1] == 'country':\n",
    "        campaign.append(\"Longtail %s\" %ready_dict[ready_ids[i]][0])\n",
    "    if ready_dict[ready_ids[i]][1] == 'state':\n",
    "        campaign.append(\"Longtail %s - %s\" %(ready_dict[ready_ids[i]][4], ready_dict[ready_ids[i]][0]))\n",
    "    \n",
    "for i in range(len(ad_group)):\n",
    "    ad_group[i] = ad_group[i].replace(\"  \", \" \")\n",
    "    campaign[i] = campaign[i].replace(\"  \", \" \")"
   ]
  },
  {
   "cell_type": "code",
   "execution_count": 59,
   "metadata": {
    "collapsed": false
   },
   "outputs": [],
   "source": [
    "for i in range(len(display_url)):\n",
    "    display_url[i] = display_url[i].replace('-', '')\n",
    "    if len(display_url[i]) > 35:\n",
    "        display_url[i] = 'www.BookYogaRetreats.com'"
   ]
  },
  {
   "cell_type": "code",
   "execution_count": 60,
   "metadata": {
    "collapsed": false
   },
   "outputs": [
    {
     "name": "stdout",
     "output_type": "stream",
     "text": [
      "all lists have the same length (thats a good thing)\n"
     ]
    }
   ],
   "source": [
    "for item in headline1:\n",
    "    if len(item) > 25:\n",
    "        print(item)\n",
    "        \n",
    "for item in headline2:\n",
    "    if len(item) > 25:\n",
    "        print(item)\n",
    "\n",
    "for i in range(len(desc11)):\n",
    "    if len(desc11[i]) > 38:\n",
    "        desc11[i] = ''.join([i for i in desc11[i] if not i.isdigit()])\n",
    "        desc11[i] = desc11[i].replace(' Deals', 'Deals')\n",
    "        if len(desc11[i]) > 38:\n",
    "            desc11[i] = desc11[i].replace(\"Deals in \", '')\n",
    "\n",
    "for i in range(len(desc11)):\n",
    "    if len(desc11[i]) > 38:\n",
    "        print(desc11[i], len(desc11[i]))\n",
    "    \n",
    "for i in range(len(desc21)):\n",
    "    if len(desc21[i]) > 38:\n",
    "        desc21[i] = ''.join(i for i in desc21[i] if not i.isdigit())\n",
    "        desc21[i] = desc21[i].replace(' Deals', 'Deals')\n",
    "        if len(desc21[i]) > 38:\n",
    "            desc21[i] = desc21[i].replace('Deals in ', '')\n",
    "            \n",
    "for i in range(len(desc21)):\n",
    "    if len(desc21[i]) > 38:\n",
    "        print(desc21[i], len(desc21[i]))\n",
    "        \n",
    "if (len(headline1) == len(headline2) == len(desc11) == len(desc12) == len(desc21) == len(desc22)) == True:\n",
    "    print('all lists have the same length (thats a good thing)')"
   ]
  },
  {
   "cell_type": "code",
   "execution_count": 61,
   "metadata": {
    "collapsed": false
   },
   "outputs": [],
   "source": [
    "headlines = (headline1 + headline2) * 2\n",
    "d1 = (desc11 + desc21) * 2\n",
    "d2 = (desc12 + desc22) * 2\n",
    "\n",
    "display_url = display_url * 4\n",
    "final_url = final_url * 4\n",
    "campaign = campaign * 4\n",
    "ad_group = ad_group * 4\n",
    "\n",
    "how_many_ads = len(headlines)\n",
    "\n",
    "ad_state = ['enabled'] * how_many_ads\n",
    "ad_type = ['Text ad'] * how_many_ads\n",
    "\n",
    "dev_all = ['All'] * int(how_many_ads/2)\n",
    "dev_mobile = ['Mobile'] * int(how_many_ads/2)\n",
    "dev_pref = dev_all + dev_mobile "
   ]
  },
  {
   "cell_type": "code",
   "execution_count": 62,
   "metadata": {
    "collapsed": false
   },
   "outputs": [
    {
     "data": {
      "text/plain": [
       "True"
      ]
     },
     "execution_count": 62,
     "metadata": {},
     "output_type": "execute_result"
    }
   ],
   "source": [
    "len(headlines) == len(d1) == len(d2) == len(display_url) == len(final_url) == len(campaign) == len(ad_group) == len(ad_state) == len(ad_type) == len(dev_pref) "
   ]
  },
  {
   "cell_type": "code",
   "execution_count": 63,
   "metadata": {
    "collapsed": true
   },
   "outputs": [],
   "source": [
    "ad_column_titles = [\"Ad state\",\n",
    "                    \"Ad\",\n",
    "                    \"Description line 1\",\n",
    "                    \"Description line 2\",\n",
    "                    \"Display URL\",\n",
    "                    \"Final URL\",\n",
    "                    \"Device preference type\",\n",
    "                    \"Campaign\",\n",
    "                    \"Ad group\",\n",
    "                    \"Ad type\"] "
   ]
  },
  {
   "cell_type": "code",
   "execution_count": 64,
   "metadata": {
    "collapsed": false
   },
   "outputs": [],
   "source": [
    "ad_rows = []\n",
    "\n",
    "for i in range(how_many_ads):\n",
    "    ad_rows.append(\n",
    "        [ad_state[i],\n",
    "        headlines[i],\n",
    "        d1[i],\n",
    "        d2[i],\n",
    "        display_url[i],\n",
    "        final_url[i],\n",
    "        dev_pref[i],\n",
    "        campaign[i],\n",
    "        ad_group[i],\n",
    "        ad_type[i]])        "
   ]
  },
  {
   "cell_type": "code",
   "execution_count": 65,
   "metadata": {
    "collapsed": false
   },
   "outputs": [
    {
     "name": "stdout",
     "output_type": "stream",
     "text": [
      "3708 ads for 927 destinations have been created (4 ads per destination: 2 for mobile, 2 for desktop) please check your current directory for the csv output\n"
     ]
    }
   ],
   "source": [
    "export_name = 'SQL Ads.csv'\n",
    "new_export = open(export_name, 'w')\n",
    "export_object = csv.writer(new_export)\n",
    "\n",
    "export_object.writerow(ad_column_titles)\n",
    "export_object.writerows(ad_rows)\n",
    "\n",
    "new_export.close()\n",
    "\n",
    "print('%i ads for %i destinations have been created (4 ads per destination: 2 for mobile, 2 for desktop) please check your current directory for the csv output' %(len(d1), len(ready_urls)))"
   ]
  },
  {
   "cell_type": "code",
   "execution_count": 66,
   "metadata": {
    "collapsed": false
   },
   "outputs": [],
   "source": [
    "yoga = ['yoga']\n",
    "\n",
    "holiday_word1 = [\n",
    "'retreat',  \n",
    "'retreats', \n",
    "'vacation',\n",
    "'vacations',\n",
    "'resort',\n",
    "'resorts',\n",
    "'camp',\n",
    "'camps',\n",
    "'package',\n",
    "'packages',\n",
    "'center',\n",
    "'centers',\n",
    "'centre',\n",
    "'centres',\n",
    "'deal',\n",
    "'deals',\n",
    "'training',\n",
    "'trainings'\n",
    "]\n",
    "\n",
    "holiday_word2 = [\n",
    "'retreat',  \n",
    "'retreats', \n",
    "'vacation',\n",
    "'vacations',\n",
    "'resort',\n",
    "'resorts',\n",
    "'camp',\n",
    "'camps',\n",
    "'package',\n",
    "'packages',\n",
    "'center',\n",
    "'centers',\n",
    "'centre',\n",
    "'centres',\n",
    "'deal',\n",
    "'deals',\n",
    "'training',\n",
    "'trainings',\n",
    "'']"
   ]
  },
  {
   "cell_type": "code",
   "execution_count": null,
   "metadata": {
    "collapsed": false
   },
   "outputs": [],
   "source": [
    "destination_front = []\n",
    "destination_back= []\n",
    "dest_camp = []\n",
    "kw_campaign = []\n",
    "kw_ad_group = []\n",
    "\n",
    "results = []\n",
    "\n",
    "import itertools\n",
    "\n",
    "for i in range(len(ready_ids)):\n",
    "    \n",
    "    a1 = [yoga, holiday_word1, holiday_word2, [ready_dict[ready_ids[i]][0], ready_dict[ready_ids[i]][-1]]]\n",
    "    a2 = [[ready_dict[ready_ids[i]][0]], yoga, holiday_word1, holiday_word2]\n",
    "    \n",
    "    comb = list(itertools.product(*a1))\n",
    "    comb2 = list(itertools.product(*a2))\n",
    "    \n",
    "    for i in range(len(comb)):\n",
    "        if comb[i][1] == comb[i][2]:\n",
    "            comb[i] = (comb[i][0], comb[i][1], comb[i][3])\n",
    "        elif comb[i][1]+'s' == comb[i][2]:\n",
    "            comb[i] = (comb[i][0], comb[i][1], comb[i][3])\n",
    "        elif comb[i][1] == comb[i][2]+'s':\n",
    "            comb[i] = (comb[i][0], comb[i][1], comb[i][3])\n",
    "\n",
    "    for i in range(len(comb2)):\n",
    "        if comb2[i][2] == comb2[i][3]:\n",
    "            comb2[i] = (comb2[i][0], comb2[i][1], comb2[i][2])\n",
    "        elif comb2[i][2]+'s' == comb2[i][3]:\n",
    "            comb2[i] = (comb2[i][0], comb2[i][1], comb2[i][2])\n",
    "        elif comb2[i][2] == comb2[i][3]+'s':\n",
    "            comb2[i] = (comb2[i][0], comb2[i][1], comb2[i][2])\n",
    "            \n",
    "    all_comb = comb + comb2\n",
    "    \n",
    "    for i in range(len(all_comb)):\n",
    "        all_comb[i] = tuple(x for x in all_comb[i] if x != \"\")\n",
    "    \n",
    "    all_comb = sorted(set(all_comb))\n",
    "    \n",
    "    for item in all_comb:\n",
    "        results.append('['+(' '.join(item))+']')\n",
    "        \n",
    "    results = sorted(set(results))"
   ]
  },
  {
   "cell_type": "code",
   "execution_count": null,
   "metadata": {
    "collapsed": false
   },
   "outputs": [],
   "source": [
    "results"
   ]
  },
  {
   "cell_type": "code",
   "execution_count": null,
   "metadata": {
    "collapsed": false
   },
   "outputs": [],
   "source": [
    "results[0]"
   ]
  },
  {
   "cell_type": "code",
   "execution_count": null,
   "metadata": {
    "collapsed": true
   },
   "outputs": [],
   "source": [
    "\n",
    "    "
   ]
  },
  {
   "cell_type": "code",
   "execution_count": 70,
   "metadata": {
    "collapsed": false
   },
   "outputs": [],
   "source": [
    "max_cpc = 0.20\n",
    "keyword_state = ['enabled'] * len(results)\n",
    "match_type = ['Exact'] * len(results)\n",
    "\n",
    "\n",
    "for i in range(len(results)):\n",
    "    ad_group_kw.append('Longtail Retreats %s' %dest_camp[i])\n",
    "    \n",
    "keyword_max_cpc = [max_cpc] * len(results)\n",
    "ad_group_max_cpc = [max_cpc] * len(results)"
   ]
  },
  {
   "cell_type": "code",
   "execution_count": 71,
   "metadata": {
    "collapsed": false
   },
   "outputs": [
    {
     "data": {
      "text/plain": [
       "'Longtail Retreats Amorgos'"
      ]
     },
     "execution_count": 71,
     "metadata": {},
     "output_type": "execute_result"
    }
   ],
   "source": [
    "ad_group_kw[11198]"
   ]
  },
  {
   "cell_type": "code",
   "execution_count": 72,
   "metadata": {
    "collapsed": false
   },
   "outputs": [
    {
     "data": {
      "text/plain": [
       "'[Amorgos yoga resort retreats]'"
      ]
     },
     "execution_count": 72,
     "metadata": {},
     "output_type": "execute_result"
    }
   ],
   "source": [
    "results[11198]"
   ]
  },
  {
   "cell_type": "code",
   "execution_count": 73,
   "metadata": {
    "collapsed": true
   },
   "outputs": [],
   "source": [
    "kw_column_titles = ['Keyword state',\n",
    "                   'Keyword',\n",
    "                   'Match type',\n",
    "                   'Campaign',\n",
    "                   'Ad group',\n",
    "                   'Keyword max CPC',\n",
    "                   'Ad group max CPC']"
   ]
  },
  {
   "cell_type": "code",
   "execution_count": 75,
   "metadata": {
    "collapsed": false
   },
   "outputs": [
    {
     "ename": "NameError",
     "evalue": "name 'kw_campaign' is not defined",
     "output_type": "error",
     "traceback": [
      "\u001b[0;31m---------------------------------------------------------------------------\u001b[0m",
      "\u001b[0;31mNameError\u001b[0m                                 Traceback (most recent call last)",
      "\u001b[0;32m<ipython-input-75-f59e8b7ad94d>\u001b[0m in \u001b[0;36m<module>\u001b[0;34m()\u001b[0m\n\u001b[1;32m      4\u001b[0m                   \u001b[0mresults\u001b[0m\u001b[0;34m[\u001b[0m\u001b[0mi\u001b[0m\u001b[0;34m]\u001b[0m\u001b[0;34m,\u001b[0m\u001b[0;34m\u001b[0m\u001b[0m\n\u001b[1;32m      5\u001b[0m                   \u001b[0mmatch_type\u001b[0m\u001b[0;34m[\u001b[0m\u001b[0mi\u001b[0m\u001b[0;34m]\u001b[0m\u001b[0;34m,\u001b[0m\u001b[0;34m\u001b[0m\u001b[0m\n\u001b[0;32m----> 6\u001b[0;31m                   \u001b[0mkw_campaign\u001b[0m\u001b[0;34m[\u001b[0m\u001b[0mi\u001b[0m\u001b[0;34m]\u001b[0m\u001b[0;34m,\u001b[0m\u001b[0;34m\u001b[0m\u001b[0m\n\u001b[0m\u001b[1;32m      7\u001b[0m                   \u001b[0mkw_ad_group\u001b[0m\u001b[0;34m[\u001b[0m\u001b[0mi\u001b[0m\u001b[0;34m]\u001b[0m\u001b[0;34m,\u001b[0m\u001b[0;34m\u001b[0m\u001b[0m\n\u001b[1;32m      8\u001b[0m                   \u001b[0mkeyword_max_cpc\u001b[0m\u001b[0;34m[\u001b[0m\u001b[0mi\u001b[0m\u001b[0;34m]\u001b[0m\u001b[0;34m,\u001b[0m\u001b[0;34m\u001b[0m\u001b[0m\n",
      "\u001b[0;31mNameError\u001b[0m: name 'kw_campaign' is not defined"
     ]
    }
   ],
   "source": [
    "kw_rows = []\n",
    "for i in range(len(results)):\n",
    "    kw_rows.append([keyword_state[i],\n",
    "                  results[i],\n",
    "                  match_type[i],\n",
    "                  kw_campaign[i],\n",
    "                  kw_ad_group[i],\n",
    "                  keyword_max_cpc[i],\n",
    "                  ad_group_max_cpc[i]])"
   ]
  },
  {
   "cell_type": "code",
   "execution_count": null,
   "metadata": {
    "collapsed": true
   },
   "outputs": [],
   "source": [
    "def remove_adj_dup(comb):\n",
    "    for i in range(len(comb)):\n",
    "        if comb[i][1] == comb[i][2]:\n",
    "            comb[i] = (comb[i][0], comb[i][1], comb[i][3])\n",
    "        elif comb[i][1]+'s' == comb[i][2]:\n",
    "            comb[i] = (comb[i][0], comb[i][1], comb[i][3])\n",
    "        elif comb[i][1] == comb[i][2]+'s':\n",
    "            comb[i] = (comb[i][0], comb[i][1], comb[i][3])\n",
    "    comb = list(set(comb))\n",
    "        \n",
    "def remove_adj_dup2(comb2):\n",
    "    for i in range(len(comb2)):\n",
    "        if comb2[i][2] == comb2[i][3]:\n",
    "            comb2[i] = (comb2[i][0], comb2[i][1], comb2[i][2])\n",
    "        elif comb2[i][2]+'s' == comb2[i][3]:\n",
    "            comb2[i] = (comb2[i][0], comb2[i][1], comb2[i][2])\n",
    "        elif comb2[i][2] == comb2[i][3]+'s':\n",
    "            comb2[i] = (comb2[i][0], comb2[i][1], comb2[i][2])\n",
    "    comb2 = list(set(comb2))    \n"
   ]
  }
 ],
 "metadata": {
  "kernelspec": {
   "display_name": "Python 3",
   "language": "python",
   "name": "python3"
  },
  "language_info": {
   "codemirror_mode": {
    "name": "ipython",
    "version": 3
   },
   "file_extension": ".py",
   "mimetype": "text/x-python",
   "name": "python",
   "nbconvert_exporter": "python",
   "pygments_lexer": "ipython3",
   "version": "3.5.1"
  }
 },
 "nbformat": 4,
 "nbformat_minor": 0
}
